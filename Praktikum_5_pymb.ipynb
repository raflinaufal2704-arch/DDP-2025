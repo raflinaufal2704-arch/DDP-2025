{
  "nbformat": 4,
  "nbformat_minor": 0,
  "metadata": {
    "colab": {
      "provenance": [],
      "authorship_tag": "ABX9TyOt5r/ARKvO7L+r5y2A1oVX",
      "include_colab_link": true
    },
    "kernelspec": {
      "name": "python3",
      "display_name": "Python 3"
    },
    "language_info": {
      "name": "python"
    }
  },
  "cells": [
    {
      "cell_type": "markdown",
      "metadata": {
        "id": "view-in-github",
        "colab_type": "text"
      },
      "source": [
        "<a href=\"https://colab.research.google.com/github/raflinaufal2704-arch/DDP-2025/blob/main/Praktikum_5_pymb.ipynb\" target=\"_parent\"><img src=\"https://colab.research.google.com/assets/colab-badge.svg\" alt=\"Open In Colab\"/></a>"
      ]
    },
    {
      "cell_type": "code",
      "execution_count": 9,
      "metadata": {
        "id": "cvIyUmMlxQ1H",
        "colab": {
          "base_uri": "https://localhost:8080/"
        },
        "outputId": "bbe78f21-60ce-4445-ffce-e7b3cfe1fe5e"
      },
      "outputs": [
        {
          "output_type": "stream",
          "name": "stdout",
          "text": [
            "['Beat Ember', 'motor', 200, 'hitam', 2]\n",
            "['Beat Ember', 'motor', 200, 'hitam', 2, 500, 'metik']\n",
            "['Beat Ember', 'motor', 'Honda', 200, 'hitam', 2, 500, 'metik']\n"
          ]
        }
      ],
      "source": [
        "namakendaraan=\"Beat Ember\"\n",
        "jeniskendaraan=\"motor\"\n",
        "cckendaraan=200\n",
        "warnakendaraan=\"hitam\"\n",
        "rodakendaraan=2\n",
        "\n",
        "data_kendaraan=[\n",
        "namakendaraan,jeniskendaraan,cckendaraan,\n",
        "warnakendaraan,rodakendaraan]\n",
        "print(data_kendaraan)\n",
        "\n",
        "hargakendaraan=500\n",
        "tipekendaraan=\"metik\"\n",
        "\n",
        "data_kendaraan.append(hargakendaraan)\n",
        "data_kendaraan.append(tipekendaraan)\n",
        "print(data_kendaraan)\n",
        "\n",
        "merkkendaraan=\"Honda\"\n",
        "data_kendaraan.insert(2,merkkendaraan)\n",
        "print(data_kendaraan)"
      ]
    },
    {
      "cell_type": "code",
      "source": [
        "pilihan=input(\"\"\"\n",
        "Silahkan pilih menu yang di inginkan\n",
        "====================================\n",
        "1.luas persegi\n",
        "2.luas lingkaran\n",
        "3.luas segitiga\n",
        "====================================\n",
        "Kirimkan hanya angka saja,\n",
        "\"\"\")\n",
        "\n",
        "match pilihan:\n",
        "  case \"1\":\n",
        "     sisi=int(input(\"sisi= \"))\n",
        "     luas=sisi * sisi\n",
        "     print(f\"luas persegi dengan sisi {sisi} adalah {luas}\")\n",
        "  #luas persegi\n",
        "  case \"2\":\n",
        "    jarijari=int(input(\"jarijari= \"))\n",
        "    luas=3.14*jarijari**2\n",
        "    print(f\"luas lingkaran dengan jari jari {jarijari} adalah{luas}\")\n",
        "  #luas lingkaran\n",
        "  case \"3\":\n",
        "    alas=int(input(\"alas= \"))\n",
        "    tinggi=int(input(\"tinggi= \"))\n",
        "    luas=alas*tinggi/2\n",
        "    print(f\"luas segitiga dengan alas dan tinggi{alas}{tinggi}adalah{luas}\")\n",
        "  #luas segitiga\n",
        "  case _:\n",
        "   print(\"ya Ndak tau kok tanya saya si\")"
      ],
      "metadata": {
        "colab": {
          "base_uri": "https://localhost:8080/"
        },
        "id": "YAyl-k548U1O",
        "outputId": "a94a33a0-1c52-44c0-afdf-313858497dce"
      },
      "execution_count": 56,
      "outputs": [
        {
          "output_type": "stream",
          "name": "stdout",
          "text": [
            "\n",
            "Silahkan pilih menu yang di inginkan\n",
            "====================================\n",
            "1.luas persegi\n",
            "2.luas lingkaran\n",
            "3.luas segitiga\n",
            "====================================\n",
            "Kirimkan hanya angka saja,\n",
            "4\n",
            "ya Ndak tau kok tanya saya si\n"
          ]
        }
      ]
    }
  ]
}